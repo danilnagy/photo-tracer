{
 "cells": [
  {
   "cell_type": "code",
   "execution_count": 1,
   "metadata": {
    "collapsed": true
   },
   "outputs": [],
   "source": [
    "%matplotlib inline\n",
    "import os\n",
    "\n",
    "from IPython.display import display, Image\n",
    "from matplotlib.pyplot import imshow\n",
    "import matplotlib.pyplot as plt\n",
    "\n",
    "import numpy as np\n",
    "from scipy import ndimage\n",
    "from scipy import misc"
   ]
  },
  {
   "cell_type": "code",
   "execution_count": 2,
   "metadata": {
    "collapsed": false
   },
   "outputs": [],
   "source": [
    "imageFolder = \"images\""
   ]
  },
  {
   "cell_type": "code",
   "execution_count": 3,
   "metadata": {
    "collapsed": false
   },
   "outputs": [
    {
     "name": "stdout",
     "output_type": "stream",
     "text": [
      "number of images in folder: 100\n"
     ]
    }
   ],
   "source": [
    "imagePaths = [x for x in os.listdir(imageFolder) if x.split('.')[-1] == \"png\"]\n",
    "\n",
    "print 'number of images in folder:', len(imagePaths)"
   ]
  },
  {
   "cell_type": "code",
   "execution_count": 4,
   "metadata": {
    "collapsed": false
   },
   "outputs": [
    {
     "name": "stdout",
     "output_type": "stream",
     "text": [
      "loading: images/00 (123)-0.png\n",
      "loading: images/00 (124)-0.png\n",
      "loading: images/00 (132)-0.png\n",
      "loading: images/00 (133)-1.png\n",
      "loading: images/00 (142)-0.png\n",
      "loading: images/00 (163)-0.png\n",
      "loading: images/00 (164)-0.png\n",
      "loading: images/00 (165)-0.png\n",
      "loading: images/00 (179)-0.png\n",
      "loading: images/00 (184)-0.png\n",
      "loading: images/00 (20)-0.png\n",
      "loading: images/00 (203)-1.png\n",
      "loading: images/00 (206)-0.png\n",
      "loading: images/00 (208)-0.png\n",
      "loading: images/00 (21)-0.png\n",
      "loading: images/00 (214)-0.png\n",
      "loading: images/00 (222)-0.png\n",
      "loading: images/00 (231)-0.png\n",
      "loading: images/00 (241)-0.png\n",
      "loading: images/00 (242)-0.png\n",
      "loading: images/00 (249)-1.png\n",
      "loading: images/00 (252)-0.png\n",
      "loading: images/00 (255)-0.png\n",
      "loading: images/00 (260)-0.png\n",
      "loading: images/00 (268)-0.png\n",
      "loading: images/00 (276)-0.png\n",
      "loading: images/00 (285)-0.png\n",
      "loading: images/00 (286)-0.png\n",
      "loading: images/00 (286)-1.png\n",
      "loading: images/00 (303)-0.png\n",
      "loading: images/00 (306)-0.png\n",
      "loading: images/00 (317)-0.png\n",
      "loading: images/00 (319)-0.png\n",
      "loading: images/00 (329)-0.png\n",
      "loading: images/00 (331)-0.png\n",
      "loading: images/00 (334)-1.png\n",
      "loading: images/00 (341)-0.png\n",
      "loading: images/00 (349)-0.png\n",
      "loading: images/00 (350)-0.png\n",
      "loading: images/00 (350)-1.png\n",
      "loading: images/00 (355)-0.png\n",
      "loading: images/00 (357)-0.png\n",
      "loading: images/00 (367)-0.png\n",
      "loading: images/00 (370)-0.png\n",
      "loading: images/00 (371)-0.png\n",
      "loading: images/00 (373)-0.png\n",
      "loading: images/00 (381)-0.png\n",
      "loading: images/00 (382)-1.png\n",
      "loading: images/00 (384)-0.png\n",
      "loading: images/00 (389)-0.png\n",
      "loading: images/00 (394)-0.png\n",
      "loading: images/00 (398)-0.png\n",
      "loading: images/00 (403)-0.png\n",
      "loading: images/00 (407)-0.png\n",
      "loading: images/00 (415)-0.png\n",
      "loading: images/00 (415)-1.png\n",
      "loading: images/00 (415)-2.png\n",
      "loading: images/00 (415)-3.png\n",
      "loading: images/00 (418)-1.png\n",
      "loading: images/00 (43)-0.png\n",
      "loading: images/00 (441)-0.png\n",
      "loading: images/00 (443)-0.png\n",
      "loading: images/00 (447)-0.png\n",
      "loading: images/00 (447)-1.png\n",
      "loading: images/00 (447)-2.png\n",
      "loading: images/00 (454)-0.png\n",
      "loading: images/00 (466)-0.png\n",
      "loading: images/00 (473)-0.png\n",
      "loading: images/00 (473)-1.png\n",
      "loading: images/00 (489)-0.png\n",
      "loading: images/00 (49)-0.png\n",
      "loading: images/00 (492)-0.png\n",
      "loading: images/00 (494)-1.png\n",
      "loading: images/00 (495)-1.png\n",
      "loading: images/00 (495)-2.png\n",
      "loading: images/00 (498)-0.png\n",
      "loading: images/00 (50)-0.png\n",
      "loading: images/00 (503)-0.png\n",
      "loading: images/00 (506)-0.png\n",
      "loading: images/00 (508)-0.png\n",
      "loading: images/00 (511)-0.png\n",
      "loading: images/00 (516)-0.png\n",
      "loading: images/00 (519)-1.png\n",
      "loading: images/00 (530)-0.png\n",
      "loading: images/00 (533)-1.png\n",
      "loading: images/00 (538)-0.png\n",
      "loading: images/00 (540)-0.png\n",
      "loading: images/00 (541)-0.png\n",
      "loading: images/00 (544)-0.png\n",
      "loading: images/00 (569)-0.png\n",
      "loading: images/00 (57)-0.png\n",
      "loading: images/00 (61)-0.png\n",
      "loading: images/00 (61)-1.png\n",
      "loading: images/00 (63)-0.png\n",
      "loading: images/00 (7)-0.png\n",
      "loading: images/00 (73)-0.png\n",
      "loading: images/00 (82)-0.png\n",
      "loading: images/00 (86)-0.png\n",
      "loading: images/00 (9)-0.png\n",
      "loading: images/00 (90)-0.png\n"
     ]
    }
   ],
   "source": [
    "image_size = 128  # Pixel width and height.\n",
    "pixel_depth = 255.0  # Number of levels per pixel.\n",
    "image_dim = 1\n",
    "\n",
    "def load_image(imagePath):\n",
    "    print \"loading:\", os.path.join(imageFolder, imagePath)\n",
    "    \n",
    "    image_data = ndimage.imread(os.path.join(imageFolder, imagePath)).astype(float)\n",
    "            \n",
    "    if image_dim == 1 and len(image_data.shape) > 2: \n",
    "        image_data = image_data[:,:,0] #convert to BW\n",
    "        \n",
    "    # resize to target resolution if necessary\n",
    "    if image_data.shape[0] != image_size:\n",
    "        image_data = misc.imresize(image_data, (image_size, image_size), interp='nearest')\n",
    "\n",
    "    # normalize\n",
    "    image_data = (image_data - image_data.mean()) / image_data.std() / 2\n",
    "    \n",
    "    return image_data\n",
    "\n",
    "imgs = []\n",
    "\n",
    "for i in range(len(imagePaths)):\n",
    "    imgs.append(load_image(imagePaths[i]))\n",
    "# print(\"image preview:\")\n",
    "# imshow(img, cmap = plt.get_cmap('gray'), vmin = -1, vmax = 1,  interpolation='nearest')\n",
    "# plt.axis('off')"
   ]
  },
  {
   "cell_type": "code",
   "execution_count": 5,
   "metadata": {
    "collapsed": false
   },
   "outputs": [],
   "source": [
    "# img2 = np.copy(img)\n",
    "# img2[64,:] = 1\n",
    "# imshow(img2, cmap = plt.get_cmap('gray'), vmin = -1, vmax = 1,  interpolation='nearest')\n",
    "# plt.axis('off')"
   ]
  },
  {
   "cell_type": "code",
   "execution_count": 6,
   "metadata": {
    "collapsed": true
   },
   "outputs": [],
   "source": [
    "def point_distance(x1, y1, x2, y2):\n",
    "    return ((x1-x2)**2.0 + (y1-y2)**2.0)**(0.5)"
   ]
  },
  {
   "cell_type": "markdown",
   "metadata": {},
   "source": [
    "##### Line algorithm"
   ]
  },
  {
   "cell_type": "code",
   "execution_count": 7,
   "metadata": {
    "collapsed": true
   },
   "outputs": [],
   "source": [
    "pathReduction = .2"
   ]
  },
  {
   "cell_type": "code",
   "execution_count": 8,
   "metadata": {
    "collapsed": true
   },
   "outputs": [],
   "source": [
    "import math\n",
    "\n",
    "def plotLine(x0,y0,x1,y1,output):\n",
    "    #plots line to numpy array using Bresenham's Line Algorithm\n",
    "    #https://en.wikipedia.org/wiki/Bresenham%27s_line_algorithm\n",
    "    \n",
    "    xs = []\n",
    "    ys = []\n",
    "    \n",
    "    if x0 > x1:\n",
    "        x_max = int(x0)\n",
    "        y_max = int(y0)\n",
    "        x_min = int(x1)\n",
    "        y_min = int(y1)\n",
    "    else:\n",
    "        x_max = int(x1)\n",
    "        y_max = int(y1)\n",
    "        x_min = int(x0)\n",
    "        y_min = int(y0)\n",
    "    \n",
    "    if x0 == x1:\n",
    "        if y0 < y1:\n",
    "            y_min = y0\n",
    "            y_max = y1\n",
    "        else:\n",
    "            y_min = y1\n",
    "            y_max = y0\n",
    "        \n",
    "#     print(x_min, x_max, y_min, y_max)\n",
    "\n",
    "    w = output.shape[1]\n",
    "    h = output.shape[0]\n",
    "\n",
    "    dx = x_max - x_min\n",
    "    dy = y_max - y_min\n",
    "    \n",
    "#     print (\"ds:\", dx, dy)\n",
    "\n",
    "    if dx == 0:\n",
    "#         print(\"flag:\", y_min, y_max)\n",
    "        #exception for vertical lines\n",
    "        for y in range(y_min,y_max):\n",
    "            output[y,x_min] += pathReduction\n",
    "            xs.append(x_min)\n",
    "            ys.append(y)\n",
    "    else:\n",
    "        error = -1.0\n",
    "        d_error = abs( float(dy)/float(dx) )\n",
    "        y = y_min\n",
    "        for x in range(x_min,x_max):\n",
    "            if y >= h or y < 0:\n",
    "                continue\n",
    "            elif x >= w or x < 0:\n",
    "                continue\n",
    "            output[y,x] += pathReduction\n",
    "            \n",
    "            xs.append(x)\n",
    "            ys.append(y)\n",
    "            \n",
    "            error += d_error\n",
    "            while error >= 0.0:\n",
    "                if(dy > 0):\n",
    "                    y += 1\n",
    "                else:\n",
    "                    y-= 1\n",
    "                error -= 1.0\n",
    "                output[y,x] += pathReduction\n",
    "            \n",
    "                xs.append(x)\n",
    "                ys.append(y)\n",
    "\n",
    "    return output, xs, ys"
   ]
  },
  {
   "cell_type": "code",
   "execution_count": 9,
   "metadata": {
    "collapsed": true
   },
   "outputs": [],
   "source": [
    "blurAmount = 1"
   ]
  },
  {
   "cell_type": "code",
   "execution_count": 10,
   "metadata": {
    "collapsed": true
   },
   "outputs": [],
   "source": [
    "from PIL import Image, ImageFilter\n",
    "\n",
    "def blurImage(d):\n",
    "    \n",
    "    d1 = (d + 1) / 2.0 * 255.0 # convert to 0-255 range\n",
    "    img = Image.fromarray( d1 )\n",
    "    \n",
    "    if img.mode != 'RGB':\n",
    "        img = img.convert('RGB')\n",
    "    \n",
    "    im_processed = img.filter(ImageFilter.GaussianBlur(radius=blurAmount))#.filter(ImageFilter.EDGE_ENHANCE_MORE)\n",
    "    n = np.array(im_processed.getdata()).reshape(im_processed.size[0], im_processed.size[1], 3)\n",
    "    \n",
    "    n1 = n[:,:,0]\n",
    "    n1 = (n1 / 255.0 * 2.0) - 1 # convert to -1-1 range\n",
    "    return n1"
   ]
  },
  {
   "cell_type": "code",
   "execution_count": 11,
   "metadata": {
    "collapsed": true
   },
   "outputs": [],
   "source": [
    "searchRad = 10\n",
    "numGCODESteps = 200\n",
    "\n",
    "spread_line = 20\n",
    "spread_point = 10\n",
    "\n",
    "line_mult = 0.0\n",
    "point_mult = 0.5"
   ]
  },
  {
   "cell_type": "code",
   "execution_count": 12,
   "metadata": {
    "collapsed": true
   },
   "outputs": [],
   "source": [
    "def findNextPoint(currX, currY, sizeX, sizeY, img):\n",
    "    \n",
    "    currFrame = img[max(0,currY-searchRad):min(currY+searchRad, sizeY),\n",
    "                        max(0,currX-searchRad):min(currX+searchRad, sizeX)]\n",
    "\n",
    "    # get search frame offset from current position\n",
    "    offX = currX - max(0,currX-searchRad)\n",
    "    offY = currY - max(0,currY-searchRad)\n",
    "\n",
    "    # find minimum value\n",
    "    minIndecesY = currFrame.argmin(axis=0)\n",
    "    minValsY = np.amin(currFrame,axis=0)\n",
    "    minIndexX = minValsY.argmin(axis=0)\n",
    "    minIndexY = minIndecesY[minIndexX]\n",
    "\n",
    "    # get next position\n",
    "    nextX = currX - offX + minIndexX\n",
    "    nextY = currY - offY + minIndexY\n",
    "    \n",
    "    return nextX, nextY"
   ]
  },
  {
   "cell_type": "code",
   "execution_count": 13,
   "metadata": {
    "collapsed": true
   },
   "outputs": [],
   "source": [
    "def findNextPoint2(currX, currY, sizeX, sizeY, img):\n",
    "    \n",
    "    x_slice = np.copy(img[:, currX])\n",
    "    y_slice = np.copy(img[currY, :])\n",
    "    \n",
    "    x_filter = [.007 * abs(k-currY) for k in range(x_slice.shape[0])]\n",
    "    y_filter = [.007 * abs(k-currX) for k in range(y_slice.shape[0])]\n",
    "    \n",
    "    x_slice += np.asarray(x_filter)\n",
    "    y_slice += np.asarray(y_filter)\n",
    "    \n",
    "    min_x_index = x_slice.argmin()\n",
    "    min_x_value = np.amin(x_slice)    \n",
    "    min_y_index = y_slice.argmin()\n",
    "    min_y_value = np.amin(y_slice)\n",
    "    \n",
    "    if min_x_value < min_y_value:\n",
    "        nextX = currX\n",
    "        nextY = min_x_index\n",
    "    else:\n",
    "        nextX = min_y_index\n",
    "        nextY = currY\n",
    "    \n",
    "#     print (min_x_index, min_x_value, min_y_index, min_y_value)\n",
    "#     print (nextX, nextY)\n",
    "#     nextX, nextY = currX, currY\n",
    "    \n",
    "    return nextX, nextY"
   ]
  },
  {
   "cell_type": "code",
   "execution_count": 14,
   "metadata": {
    "collapsed": true
   },
   "outputs": [],
   "source": [
    "def reduceImage(xs, ys, currX, currY, sizeX, sizeY, img):\n",
    "    for indx in range(len(xs)):\n",
    "\n",
    "        _x = xs[indx]\n",
    "        _y = ys[indx]\n",
    "\n",
    "        for j in range(max(0, (_y - spread_line)), min(sizeY, (_y + spread_line))):\n",
    "            for i in range(max(0, (_x - spread_line)), min(sizeX, (_x + spread_line))):\n",
    "                calc = img[j, i] + (line_mult * math.exp((-point_distance(i,j,_x,_y)**2)/(2*(spread_line/4)**2)))\n",
    "                img[j, i] = min(1, calc)\n",
    "\n",
    "    for j in range(max(0, (currY - spread_point)), min(sizeY, (currY + spread_point))):\n",
    "            for i in range(max(0, (currX - spread_point)), min(sizeX, (currX + spread_point))):\n",
    "                calc = img[j, i] + (point_mult * math.exp((-point_distance(i,j,currX,currY)**2)/(2*(spread_point/4)**2)))\n",
    "                img[j, i] = min(1, calc)\n",
    "                \n",
    "    return img"
   ]
  },
  {
   "cell_type": "code",
   "execution_count": 15,
   "metadata": {
    "collapsed": false
   },
   "outputs": [],
   "source": [
    "def traceImage(img):\n",
    "\n",
    "    sizeX = img.shape[1]\n",
    "    sizeY = img.shape[0]\n",
    "\n",
    "    img = blurImage(img)\n",
    "\n",
    "    currX = int(sizeX/2)\n",
    "    currY = int(sizeY/2)\n",
    "\n",
    "    # setup platting canvas\n",
    "    canvas = np.zeros((sizeY,sizeX))\n",
    "\n",
    "    codes = []\n",
    "\n",
    "    img_orig = np.copy(img)\n",
    "    \n",
    "#     plt.figure(figsize=(20,10))\n",
    "    \n",
    "#     plt.subplot(1, 3, 1)\n",
    "#     imshow(img_orig, cmap = plt.get_cmap('gray'), vmin = -1, vmax = 1,  interpolation='nearest')\n",
    "#     plt.axis('off')\n",
    "    \n",
    "    for k in range(numGCODESteps):\n",
    "\n",
    "        nextX, nextY = findNextPoint2(currX, currY, sizeX, sizeY, img)\n",
    "\n",
    "        # plot line on canvas and get line pixels\n",
    "        canvas, xs, ys = plotLine( currX, currY, nextX, nextY, canvas)\n",
    "\n",
    "        # set next location to current location\n",
    "        currX = nextX\n",
    "        currY = nextY\n",
    "\n",
    "        # put GCODES in list\n",
    "        codes.append(currX/float(sizeX)*200-100)\n",
    "        codes.append(currY/float(sizeY)*200-100)\n",
    "        \n",
    "        img = reduceImage(xs, ys, currX, currY, sizeX, sizeY, img)\n",
    "\n",
    "#     plt.subplot(1, 3, 2)\n",
    "#     imshow(img, cmap = plt.get_cmap('gray'), vmin = -1, vmax = 1,  interpolation='nearest')\n",
    "#     plt.axis('off')\n",
    "\n",
    "#     plt.subplot(1, 3, 3)\n",
    "#     canvas = (canvas - 1) * -1\n",
    "#     imshow(canvas, cmap = plt.get_cmap('gray'), vmin = 0, vmax = 1,  interpolation='nearest')\n",
    "#     plt.axis('off')\n",
    "\n",
    "#     return np.asarray(codes)\n",
    "    return canvas"
   ]
  },
  {
   "cell_type": "code",
   "execution_count": 16,
   "metadata": {
    "collapsed": false
   },
   "outputs": [
    {
     "name": "stderr",
     "output_type": "stream",
     "text": [
      "/Users/danil/miniconda2/lib/python2.7/site-packages/matplotlib/pyplot.py:516: RuntimeWarning: More than 20 figures have been opened. Figures created through the pyplot interface (`matplotlib.pyplot.figure`) are retained until explicitly closed and may consume too much memory. (To control this warning, see the rcParam `figure.max_open_warning`).\n",
      "  max_open_warning, RuntimeWarning)\n"
     ]
    },
    {
     "data": {
      "text/plain": [
       "<matplotlib.figure.Figure at 0x104a675d0>"
      ]
     },
     "metadata": {},
     "output_type": "display_data"
    },
    {
     "data": {
      "text/plain": [
       "<matplotlib.figure.Figure at 0x10c0e2310>"
      ]
     },
     "metadata": {},
     "output_type": "display_data"
    },
    {
     "data": {
      "text/plain": [
       "<matplotlib.figure.Figure at 0x10ed85750>"
      ]
     },
     "metadata": {},
     "output_type": "display_data"
    },
    {
     "data": {
      "text/plain": [
       "<matplotlib.figure.Figure at 0x10ed85f90>"
      ]
     },
     "metadata": {},
     "output_type": "display_data"
    },
    {
     "data": {
      "text/plain": [
       "<matplotlib.figure.Figure at 0x10ecc5810>"
      ]
     },
     "metadata": {},
     "output_type": "display_data"
    },
    {
     "data": {
      "text/plain": [
       "<matplotlib.figure.Figure at 0x10ecc5fd0>"
      ]
     },
     "metadata": {},
     "output_type": "display_data"
    },
    {
     "data": {
      "text/plain": [
       "<matplotlib.figure.Figure at 0x10d7a18d0>"
      ]
     },
     "metadata": {},
     "output_type": "display_data"
    },
    {
     "data": {
      "text/plain": [
       "<matplotlib.figure.Figure at 0x10d7b4150>"
      ]
     },
     "metadata": {},
     "output_type": "display_data"
    },
    {
     "data": {
      "text/plain": [
       "<matplotlib.figure.Figure at 0x10d7b4990>"
      ]
     },
     "metadata": {},
     "output_type": "display_data"
    },
    {
     "data": {
      "text/plain": [
       "<matplotlib.figure.Figure at 0x10ede8210>"
      ]
     },
     "metadata": {},
     "output_type": "display_data"
    },
    {
     "data": {
      "text/plain": [
       "<matplotlib.figure.Figure at 0x10ede8a50>"
      ]
     },
     "metadata": {},
     "output_type": "display_data"
    },
    {
     "data": {
      "text/plain": [
       "<matplotlib.figure.Figure at 0x10ed712d0>"
      ]
     },
     "metadata": {},
     "output_type": "display_data"
    },
    {
     "data": {
      "text/plain": [
       "<matplotlib.figure.Figure at 0x10ed71b10>"
      ]
     },
     "metadata": {},
     "output_type": "display_data"
    },
    {
     "data": {
      "text/plain": [
       "<matplotlib.figure.Figure at 0x10ece2390>"
      ]
     },
     "metadata": {},
     "output_type": "display_data"
    },
    {
     "data": {
      "text/plain": [
       "<matplotlib.figure.Figure at 0x10ece2bd0>"
      ]
     },
     "metadata": {},
     "output_type": "display_data"
    },
    {
     "data": {
      "text/plain": [
       "<matplotlib.figure.Figure at 0x10ed7d450>"
      ]
     },
     "metadata": {},
     "output_type": "display_data"
    },
    {
     "data": {
      "text/plain": [
       "<matplotlib.figure.Figure at 0x10ed7dc90>"
      ]
     },
     "metadata": {},
     "output_type": "display_data"
    },
    {
     "data": {
      "text/plain": [
       "<matplotlib.figure.Figure at 0x10ec96510>"
      ]
     },
     "metadata": {},
     "output_type": "display_data"
    },
    {
     "data": {
      "text/plain": [
       "<matplotlib.figure.Figure at 0x10ec96d50>"
      ]
     },
     "metadata": {},
     "output_type": "display_data"
    },
    {
     "data": {
      "text/plain": [
       "<matplotlib.figure.Figure at 0x1112f75d0>"
      ]
     },
     "metadata": {},
     "output_type": "display_data"
    },
    {
     "data": {
      "text/plain": [
       "<matplotlib.figure.Figure at 0x10ed42d10>"
      ]
     },
     "metadata": {},
     "output_type": "display_data"
    },
    {
     "data": {
      "text/plain": [
       "<matplotlib.figure.Figure at 0x10ed0e690>"
      ]
     },
     "metadata": {},
     "output_type": "display_data"
    },
    {
     "data": {
      "text/plain": [
       "<matplotlib.figure.Figure at 0x10ed0ee50>"
      ]
     },
     "metadata": {},
     "output_type": "display_data"
    },
    {
     "data": {
      "text/plain": [
       "<matplotlib.figure.Figure at 0x10ed6c6d0>"
      ]
     },
     "metadata": {},
     "output_type": "display_data"
    },
    {
     "data": {
      "text/plain": [
       "<matplotlib.figure.Figure at 0x10ed6cf10>"
      ]
     },
     "metadata": {},
     "output_type": "display_data"
    },
    {
     "data": {
      "text/plain": [
       "<matplotlib.figure.Figure at 0x10ee01790>"
      ]
     },
     "metadata": {},
     "output_type": "display_data"
    },
    {
     "data": {
      "text/plain": [
       "<matplotlib.figure.Figure at 0x10ee01fd0>"
      ]
     },
     "metadata": {},
     "output_type": "display_data"
    },
    {
     "data": {
      "text/plain": [
       "<matplotlib.figure.Figure at 0x10ecb5850>"
      ]
     },
     "metadata": {},
     "output_type": "display_data"
    },
    {
     "data": {
      "text/plain": [
       "<matplotlib.figure.Figure at 0x10eccd050>"
      ]
     },
     "metadata": {},
     "output_type": "display_data"
    },
    {
     "data": {
      "text/plain": [
       "<matplotlib.figure.Figure at 0x10d780f90>"
      ]
     },
     "metadata": {},
     "output_type": "display_data"
    },
    {
     "data": {
      "text/plain": [
       "<matplotlib.figure.Figure at 0x111339150>"
      ]
     },
     "metadata": {},
     "output_type": "display_data"
    },
    {
     "data": {
      "text/plain": [
       "<matplotlib.figure.Figure at 0x111339990>"
      ]
     },
     "metadata": {},
     "output_type": "display_data"
    },
    {
     "data": {
      "text/plain": [
       "<matplotlib.figure.Figure at 0x10edbb210>"
      ]
     },
     "metadata": {},
     "output_type": "display_data"
    },
    {
     "data": {
      "text/plain": [
       "<matplotlib.figure.Figure at 0x10edbba50>"
      ]
     },
     "metadata": {},
     "output_type": "display_data"
    },
    {
     "data": {
      "text/plain": [
       "<matplotlib.figure.Figure at 0x10ed582d0>"
      ]
     },
     "metadata": {},
     "output_type": "display_data"
    },
    {
     "data": {
      "text/plain": [
       "<matplotlib.figure.Figure at 0x10ed58b10>"
      ]
     },
     "metadata": {},
     "output_type": "display_data"
    },
    {
     "data": {
      "text/plain": [
       "<matplotlib.figure.Figure at 0x10ec94390>"
      ]
     },
     "metadata": {},
     "output_type": "display_data"
    },
    {
     "data": {
      "text/plain": [
       "<matplotlib.figure.Figure at 0x10ec94bd0>"
      ]
     },
     "metadata": {},
     "output_type": "display_data"
    },
    {
     "data": {
      "text/plain": [
       "<matplotlib.figure.Figure at 0x10edff450>"
      ]
     },
     "metadata": {},
     "output_type": "display_data"
    },
    {
     "data": {
      "text/plain": [
       "<matplotlib.figure.Figure at 0x10edffc90>"
      ]
     },
     "metadata": {},
     "output_type": "display_data"
    },
    {
     "data": {
      "text/plain": [
       "<matplotlib.figure.Figure at 0x111345510>"
      ]
     },
     "metadata": {},
     "output_type": "display_data"
    },
    {
     "data": {
      "text/plain": [
       "<matplotlib.figure.Figure at 0x111345d50>"
      ]
     },
     "metadata": {},
     "output_type": "display_data"
    },
    {
     "data": {
      "text/plain": [
       "<matplotlib.figure.Figure at 0x1113655d0>"
      ]
     },
     "metadata": {},
     "output_type": "display_data"
    },
    {
     "data": {
      "text/plain": [
       "<matplotlib.figure.Figure at 0x111365e10>"
      ]
     },
     "metadata": {},
     "output_type": "display_data"
    },
    {
     "data": {
      "text/plain": [
       "<matplotlib.figure.Figure at 0x10ed99690>"
      ]
     },
     "metadata": {},
     "output_type": "display_data"
    },
    {
     "data": {
      "text/plain": [
       "<matplotlib.figure.Figure at 0x10ed99ed0>"
      ]
     },
     "metadata": {},
     "output_type": "display_data"
    },
    {
     "data": {
      "text/plain": [
       "<matplotlib.figure.Figure at 0x1112df750>"
      ]
     },
     "metadata": {},
     "output_type": "display_data"
    },
    {
     "data": {
      "text/plain": [
       "<matplotlib.figure.Figure at 0x1112dff90>"
      ]
     },
     "metadata": {},
     "output_type": "display_data"
    },
    {
     "data": {
      "text/plain": [
       "<matplotlib.figure.Figure at 0x10ec8a810>"
      ]
     },
     "metadata": {},
     "output_type": "display_data"
    },
    {
     "data": {
      "text/plain": [
       "<matplotlib.figure.Figure at 0x10ec8afd0>"
      ]
     },
     "metadata": {},
     "output_type": "display_data"
    },
    {
     "data": {
      "text/plain": [
       "<matplotlib.figure.Figure at 0x1112f38d0>"
      ]
     },
     "metadata": {},
     "output_type": "display_data"
    },
    {
     "data": {
      "text/plain": [
       "<matplotlib.figure.Figure at 0x1113d4150>"
      ]
     },
     "metadata": {},
     "output_type": "display_data"
    },
    {
     "data": {
      "text/plain": [
       "<matplotlib.figure.Figure at 0x1113d4990>"
      ]
     },
     "metadata": {},
     "output_type": "display_data"
    },
    {
     "data": {
      "text/plain": [
       "<matplotlib.figure.Figure at 0x1113c0210>"
      ]
     },
     "metadata": {},
     "output_type": "display_data"
    },
    {
     "data": {
      "text/plain": [
       "<matplotlib.figure.Figure at 0x1113c0a50>"
      ]
     },
     "metadata": {},
     "output_type": "display_data"
    },
    {
     "data": {
      "text/plain": [
       "<matplotlib.figure.Figure at 0x10ec9c2d0>"
      ]
     },
     "metadata": {},
     "output_type": "display_data"
    },
    {
     "data": {
      "text/plain": [
       "<matplotlib.figure.Figure at 0x10ec9cb10>"
      ]
     },
     "metadata": {},
     "output_type": "display_data"
    },
    {
     "data": {
      "text/plain": [
       "<matplotlib.figure.Figure at 0x1113bd390>"
      ]
     },
     "metadata": {},
     "output_type": "display_data"
    },
    {
     "data": {
      "text/plain": [
       "<matplotlib.figure.Figure at 0x1113bdbd0>"
      ]
     },
     "metadata": {},
     "output_type": "display_data"
    },
    {
     "data": {
      "text/plain": [
       "<matplotlib.figure.Figure at 0x10edc6450>"
      ]
     },
     "metadata": {},
     "output_type": "display_data"
    },
    {
     "data": {
      "text/plain": [
       "<matplotlib.figure.Figure at 0x10edc6c90>"
      ]
     },
     "metadata": {},
     "output_type": "display_data"
    },
    {
     "data": {
      "text/plain": [
       "<matplotlib.figure.Figure at 0x10ecd5510>"
      ]
     },
     "metadata": {},
     "output_type": "display_data"
    },
    {
     "data": {
      "text/plain": [
       "<matplotlib.figure.Figure at 0x10ecd5d50>"
      ]
     },
     "metadata": {},
     "output_type": "display_data"
    },
    {
     "data": {
      "text/plain": [
       "<matplotlib.figure.Figure at 0x1114155d0>"
      ]
     },
     "metadata": {},
     "output_type": "display_data"
    },
    {
     "data": {
      "text/plain": [
       "<matplotlib.figure.Figure at 0x111415e10>"
      ]
     },
     "metadata": {},
     "output_type": "display_data"
    },
    {
     "data": {
      "text/plain": [
       "<matplotlib.figure.Figure at 0x10eca2690>"
      ]
     },
     "metadata": {},
     "output_type": "display_data"
    },
    {
     "data": {
      "text/plain": [
       "<matplotlib.figure.Figure at 0x10eca2ed0>"
      ]
     },
     "metadata": {},
     "output_type": "display_data"
    },
    {
     "data": {
      "text/plain": [
       "<matplotlib.figure.Figure at 0x10ecae750>"
      ]
     },
     "metadata": {},
     "output_type": "display_data"
    },
    {
     "data": {
      "text/plain": [
       "<matplotlib.figure.Figure at 0x10ecaef90>"
      ]
     },
     "metadata": {},
     "output_type": "display_data"
    },
    {
     "data": {
      "text/plain": [
       "<matplotlib.figure.Figure at 0x11141f810>"
      ]
     },
     "metadata": {},
     "output_type": "display_data"
    },
    {
     "data": {
      "text/plain": [
       "<matplotlib.figure.Figure at 0x11141ffd0>"
      ]
     },
     "metadata": {},
     "output_type": "display_data"
    },
    {
     "data": {
      "text/plain": [
       "<matplotlib.figure.Figure at 0x11140c8d0>"
      ]
     },
     "metadata": {},
     "output_type": "display_data"
    },
    {
     "data": {
      "text/plain": [
       "<matplotlib.figure.Figure at 0x1113f2150>"
      ]
     },
     "metadata": {},
     "output_type": "display_data"
    },
    {
     "data": {
      "text/plain": [
       "<matplotlib.figure.Figure at 0x1113f2990>"
      ]
     },
     "metadata": {},
     "output_type": "display_data"
    },
    {
     "data": {
      "text/plain": [
       "<matplotlib.figure.Figure at 0x1113df210>"
      ]
     },
     "metadata": {},
     "output_type": "display_data"
    },
    {
     "data": {
      "text/plain": [
       "<matplotlib.figure.Figure at 0x1113dfa50>"
      ]
     },
     "metadata": {},
     "output_type": "display_data"
    },
    {
     "data": {
      "text/plain": [
       "<matplotlib.figure.Figure at 0x11145f2d0>"
      ]
     },
     "metadata": {},
     "output_type": "display_data"
    },
    {
     "data": {
      "text/plain": [
       "<matplotlib.figure.Figure at 0x10d780f10>"
      ]
     },
     "metadata": {},
     "output_type": "display_data"
    },
    {
     "data": {
      "text/plain": [
       "<matplotlib.figure.Figure at 0x111466350>"
      ]
     },
     "metadata": {},
     "output_type": "display_data"
    },
    {
     "data": {
      "text/plain": [
       "<matplotlib.figure.Figure at 0x111466b90>"
      ]
     },
     "metadata": {},
     "output_type": "display_data"
    },
    {
     "data": {
      "text/plain": [
       "<matplotlib.figure.Figure at 0x11146b410>"
      ]
     },
     "metadata": {},
     "output_type": "display_data"
    },
    {
     "data": {
      "text/plain": [
       "<matplotlib.figure.Figure at 0x11146bc50>"
      ]
     },
     "metadata": {},
     "output_type": "display_data"
    },
    {
     "data": {
      "text/plain": [
       "<matplotlib.figure.Figure at 0x10d6c6410>"
      ]
     },
     "metadata": {},
     "output_type": "display_data"
    },
    {
     "data": {
      "text/plain": [
       "<matplotlib.figure.Figure at 0x111479cd0>"
      ]
     },
     "metadata": {},
     "output_type": "display_data"
    },
    {
     "data": {
      "text/plain": [
       "<matplotlib.figure.Figure at 0x111475550>"
      ]
     },
     "metadata": {},
     "output_type": "display_data"
    },
    {
     "data": {
      "text/plain": [
       "<matplotlib.figure.Figure at 0x111475d90>"
      ]
     },
     "metadata": {},
     "output_type": "display_data"
    },
    {
     "data": {
      "text/plain": [
       "<matplotlib.figure.Figure at 0x10d6ce5d0>"
      ]
     },
     "metadata": {},
     "output_type": "display_data"
    },
    {
     "data": {
      "text/plain": [
       "<matplotlib.figure.Figure at 0x11148de50>"
      ]
     },
     "metadata": {},
     "output_type": "display_data"
    },
    {
     "data": {
      "text/plain": [
       "<matplotlib.figure.Figure at 0x11146f6d0>"
      ]
     },
     "metadata": {},
     "output_type": "display_data"
    },
    {
     "data": {
      "text/plain": [
       "<matplotlib.figure.Figure at 0x11146ff10>"
      ]
     },
     "metadata": {},
     "output_type": "display_data"
    },
    {
     "data": {
      "text/plain": [
       "<matplotlib.figure.Figure at 0x111489790>"
      ]
     },
     "metadata": {},
     "output_type": "display_data"
    },
    {
     "data": {
      "text/plain": [
       "<matplotlib.figure.Figure at 0x111489fd0>"
      ]
     },
     "metadata": {},
     "output_type": "display_data"
    },
    {
     "data": {
      "text/plain": [
       "<matplotlib.figure.Figure at 0x1113c5850>"
      ]
     },
     "metadata": {},
     "output_type": "display_data"
    },
    {
     "data": {
      "text/plain": [
       "<matplotlib.figure.Figure at 0x1113aa0d0>"
      ]
     },
     "metadata": {},
     "output_type": "display_data"
    },
    {
     "data": {
      "text/plain": [
       "<matplotlib.figure.Figure at 0x1113aa910>"
      ]
     },
     "metadata": {},
     "output_type": "display_data"
    },
    {
     "data": {
      "text/plain": [
       "<matplotlib.figure.Figure at 0x1114da190>"
      ]
     },
     "metadata": {},
     "output_type": "display_data"
    },
    {
     "data": {
      "text/plain": [
       "<matplotlib.figure.Figure at 0x1114da9d0>"
      ]
     },
     "metadata": {},
     "output_type": "display_data"
    },
    {
     "data": {
      "text/plain": [
       "<matplotlib.figure.Figure at 0x1114e0250>"
      ]
     },
     "metadata": {},
     "output_type": "display_data"
    },
    {
     "data": {
      "text/plain": [
       "<matplotlib.figure.Figure at 0x10d6c6cd0>"
      ]
     },
     "metadata": {},
     "output_type": "display_data"
    },
    {
     "data": {
      "text/plain": [
       "<matplotlib.figure.Figure at 0x1115062d0>"
      ]
     },
     "metadata": {},
     "output_type": "display_data"
    }
   ],
   "source": [
    "for i in range(len(imgs)):\n",
    "    img = imgs[i]\n",
    "    drawing = traceImage(img)\n",
    "    img = Image.fromarray( abs(drawing-1)*255 )\n",
    "    if img.mode != 'RGB':\n",
    "        img = img.convert('RGB')\n",
    "    img.save(str(i) + \".png\")"
   ]
  },
  {
   "cell_type": "code",
   "execution_count": null,
   "metadata": {
    "collapsed": true
   },
   "outputs": [],
   "source": []
  },
  {
   "cell_type": "code",
   "execution_count": null,
   "metadata": {
    "collapsed": true
   },
   "outputs": [],
   "source": []
  },
  {
   "cell_type": "code",
   "execution_count": null,
   "metadata": {
    "collapsed": true
   },
   "outputs": [],
   "source": []
  },
  {
   "cell_type": "code",
   "execution_count": null,
   "metadata": {
    "collapsed": true
   },
   "outputs": [],
   "source": []
  },
  {
   "cell_type": "code",
   "execution_count": null,
   "metadata": {
    "collapsed": true
   },
   "outputs": [],
   "source": []
  },
  {
   "cell_type": "code",
   "execution_count": null,
   "metadata": {
    "collapsed": true
   },
   "outputs": [],
   "source": []
  }
 ],
 "metadata": {
  "kernelspec": {
   "display_name": "Python 2",
   "language": "python",
   "name": "python2"
  },
  "language_info": {
   "codemirror_mode": {
    "name": "ipython",
    "version": 2
   },
   "file_extension": ".py",
   "mimetype": "text/x-python",
   "name": "python",
   "nbconvert_exporter": "python",
   "pygments_lexer": "ipython2",
   "version": "2.7.12"
  }
 },
 "nbformat": 4,
 "nbformat_minor": 0
}
