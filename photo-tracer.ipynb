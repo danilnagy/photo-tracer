{
 "cells": [
  {
   "cell_type": "code",
   "execution_count": 1,
   "metadata": {
    "collapsed": true
   },
   "outputs": [],
   "source": [
    "%matplotlib inline\n",
    "import os\n",
    "\n",
    "from IPython.display import display, Image\n",
    "from matplotlib.pyplot import imshow\n",
    "import matplotlib.pyplot as plt\n",
    "\n",
    "import numpy as np\n",
    "from scipy import ndimage\n",
    "from scipy import misc"
   ]
  },
  {
   "cell_type": "code",
   "execution_count": 2,
   "metadata": {
    "collapsed": false
   },
   "outputs": [],
   "source": [
    "imageFolder = \"images\""
   ]
  },
  {
   "cell_type": "code",
   "execution_count": 3,
   "metadata": {
    "collapsed": false
   },
   "outputs": [
    {
     "name": "stdout",
     "output_type": "stream",
     "text": [
      "number of images in folder: 1\n"
     ]
    }
   ],
   "source": [
    "imagePaths = [x for x in os.listdir(imageFolder) if x.split('.')[-1] == \"png\"]\n",
    "\n",
    "print 'number of images in folder:', len(imagePaths)"
   ]
  },
  {
   "cell_type": "code",
   "execution_count": 4,
   "metadata": {
    "collapsed": false
   },
   "outputs": [
    {
     "name": "stdout",
     "output_type": "stream",
     "text": [
      "loading: images/00 (394)-0.png\n"
     ]
    },
    {
     "data": {
      "image/png": "[encoded data removed]",
      "text/plain": [
       "<matplotlib.figure.Figure at 0x10deba350>"
      ]
     },
     "metadata": {},
     "output_type": "display_data"
    }
   ],
   "source": [
    "image_size = 128  # Pixel width and height.\n",
    "pixel_depth = 255.0  # Number of levels per pixel.\n",
    "image_dim = 1\n",
    "\n",
    "def load_image(imagePath):\n",
    "    print \"loading:\", os.path.join(imageFolder, imagePath)\n",
    "    \n",
    "    image_data = ndimage.imread(os.path.join(imageFolder, imagePath)).astype(float)\n",
    "            \n",
    "    if image_dim == 1 and len(image_data.shape) > 2: \n",
    "        image_data = image_data[:,:,0] #convert to BW\n",
    "        \n",
    "    # resize to target resolution if necessary\n",
    "    if image_data.shape[0] != image_size:\n",
    "        image_data = misc.imresize(image_data, (image_size, image_size), interp='nearest')\n",
    "\n",
    "    # normalize\n",
    "    image_data = (image_data - image_data.mean()) / image_data.std() / 2\n",
    "    plt.axis('off')\n",
    "    \n",
    "    return image_data\n",
    "\n",
    "img = load_image(imagePaths[0])\n",
    "# imshow(img, cmap = plt.get_cmap('gray'), vmin = -1, vmax = 1,  interpolation='nearest')"
   ]
  },
  {
   "cell_type": "code",
   "execution_count": 5,
   "metadata": {
    "collapsed": true
   },
   "outputs": [],
   "source": [
    "def point_distance(x1, y1, x2, y2):\n",
    "    return ((x1-x2)**2.0 + (y1-y2)**2.0)**(0.5)"
   ]
  },
  {
   "cell_type": "markdown",
   "metadata": {},
   "source": [
    "##### Line algorithm"
   ]
  },
  {
   "cell_type": "code",
   "execution_count": 6,
   "metadata": {
    "collapsed": true
   },
   "outputs": [],
   "source": [
    "pathReduction = .2"
   ]
  },
  {
   "cell_type": "code",
   "execution_count": 7,
   "metadata": {
    "collapsed": true
   },
   "outputs": [],
   "source": [
    "import math\n",
    "\n",
    "def plotLine(x0,y0,x1,y1,output):\n",
    "    #plots line to numpy array using Bresenham's Line Algorithm\n",
    "    #https://en.wikipedia.org/wiki/Bresenham%27s_line_algorithm\n",
    "    \n",
    "    xs = []\n",
    "    ys = []\n",
    "    \n",
    "    if x0 > x1:\n",
    "        x_max = int(x0)\n",
    "        y_max = int(y0)\n",
    "        x_min = int(x1)\n",
    "        y_min = int(y1)\n",
    "    else:\n",
    "        x_max = int(x1)\n",
    "        y_max = int(y1)\n",
    "        x_min = int(x0)\n",
    "        y_min = int(y0)\n",
    "\n",
    "    w = output.shape[1]\n",
    "    h = output.shape[0]\n",
    "\n",
    "    dx = x_max - x_min\n",
    "    dy = y_max - y_min\n",
    "\n",
    "    if dx == 0:\n",
    "        #exception for vertical lines\n",
    "        for y in range(y_min,y_max):\n",
    "            output[y,x_min] += pathReduction\n",
    "            xs.append(x_min)\n",
    "            ys.append(y)\n",
    "    else:\n",
    "        error = -1.0\n",
    "        d_error = abs( float(dy)/float(dx) )\n",
    "        y = y_min\n",
    "        for x in range(x_min,x_max):\n",
    "            if y >= h or y < 0:\n",
    "                continue\n",
    "            elif x >= w or x < 0:\n",
    "                continue\n",
    "            output[y,x] += pathReduction\n",
    "            \n",
    "            xs.append(x)\n",
    "            ys.append(y)\n",
    "            \n",
    "            error += d_error\n",
    "            while error >= 0.0:\n",
    "                if(dy > 0):\n",
    "                    y += 1\n",
    "                else:\n",
    "                    y-= 1\n",
    "                error -= 1.0\n",
    "                output[y,x] += pathReduction\n",
    "            \n",
    "                xs.append(x)\n",
    "                ys.append(y)\n",
    "\n",
    "    return output, xs, ys"
   ]
  },
  {
   "cell_type": "code",
   "execution_count": 13,
   "metadata": {
    "collapsed": true
   },
   "outputs": [],
   "source": [
    "blurAmount = 3"
   ]
  },
  {
   "cell_type": "code",
   "execution_count": 14,
   "metadata": {
    "collapsed": true
   },
   "outputs": [],
   "source": [
    "from PIL import Image, ImageFilter\n",
    "\n",
    "def blurImage(d):\n",
    "    \n",
    "    d1 = (d + 1) / 2.0 * 255.0 # convert to 0-255 range\n",
    "    img = Image.fromarray( d1 )\n",
    "    \n",
    "    if img.mode != 'RGB':\n",
    "        img = img.convert('RGB')\n",
    "    \n",
    "    im_processed = img.filter(ImageFilter.GaussianBlur(radius=blurAmount))#.filter(ImageFilter.EDGE_ENHANCE_MORE)\n",
    "    n = np.array(im_processed.getdata()).reshape(im_processed.size[0], im_processed.size[1], 3)\n",
    "    \n",
    "    n1 = n[:,:,0]\n",
    "    n1 = (n1 / 255.0 * 2.0) - 1 # convert to -1-1 range\n",
    "    return n1"
   ]
  },
  {
   "cell_type": "code",
   "execution_count": 77,
   "metadata": {
    "collapsed": true
   },
   "outputs": [],
   "source": [
    "searchRad = 10\n",
    "numGCODESteps = 400\n",
    "\n",
    "spread_line = 3\n",
    "spread_point = 10\n",
    "\n",
    "line_mult = 0.2\n",
    "point_mult = 0.0"
   ]
  },
  {
   "cell_type": "code",
   "execution_count": 78,
   "metadata": {
    "collapsed": true
   },
   "outputs": [],
   "source": [
    "def findNextPoint(currX, currY, sizeX, sizeY, img):\n",
    "    \n",
    "    currFrame = img[max(0,currY-searchRad):min(currY+searchRad, sizeY),\n",
    "                        max(0,currX-searchRad):min(currX+searchRad, sizeX)]\n",
    "\n",
    "    # get search frame offset from current position\n",
    "    offX = currX - max(0,currX-searchRad)\n",
    "    offY = currY - max(0,currY-searchRad)\n",
    "\n",
    "    # find minimum value\n",
    "    minIndecesY = currFrame.argmin(axis=0)\n",
    "    minValsY = np.amin(currFrame,axis=0)\n",
    "    minIndexX = minValsY.argmin(axis=0)\n",
    "    minIndexY = minIndecesY[minIndexX]\n",
    "\n",
    "    # get next position\n",
    "    nextX = currX - offX + minIndexX\n",
    "    nextY = currY - offY + minIndexY\n",
    "    \n",
    "    return nextX, nextY"
   ]
  },
  {
   "cell_type": "code",
   "execution_count": null,
   "metadata": {
    "collapsed": true
   },
   "outputs": [],
   "source": []
  },
  {
   "cell_type": "code",
   "execution_count": 79,
   "metadata": {
    "collapsed": false
   },
   "outputs": [],
   "source": [
    "def traceImage(img):\n",
    "\n",
    "    sizeX = img.shape[1]\n",
    "    sizeY = img.shape[0]\n",
    "\n",
    "    img = blurImage(img)\n",
    "\n",
    "    currX = int(sizeX/2)\n",
    "    currY = int(sizeY/2)\n",
    "\n",
    "    # setup platting canvas\n",
    "    canvas = np.zeros((sizeY,sizeX))\n",
    "\n",
    "    codes = []\n",
    "\n",
    "    for k in range(numGCODESteps):\n",
    "\n",
    "        nextX, nextY = findNextPoint(currX, currY, sizeX, sizeY, img)\n",
    "\n",
    "        # plot line on canvas and get line pixels\n",
    "        canvas, xs, ys = plotLine( currX, currY, nextX, nextY, canvas)\n",
    "\n",
    "        # set next location to current location\n",
    "        currX = nextX\n",
    "        currY = nextY\n",
    "\n",
    "        # put GCODES in list\n",
    "        codes.append(currX/float(sizeX)*200-100)\n",
    "        codes.append(currY/float(sizeY)*200-100)\n",
    "\n",
    "        for indx in range(len(xs)):\n",
    "\n",
    "            _x = xs[indx]\n",
    "            _y = ys[indx]\n",
    "\n",
    "            for j in range(max(0, (_y - spread_line)), min(sizeY, (_y + spread_line))):\n",
    "                for i in range(max(0, (_x - spread_line)), min(sizeX, (_x + spread_line))):\n",
    "                    calc = img[j, i] + (line_mult * math.exp((-point_distance(i,j,_x,_y)**2)/(2*(spread_line / 2.5)**2)))\n",
    "                    img[j, i] = min(1, calc)\n",
    "\n",
    "        for j in range(max(0, (currY - spread_point)), min(sizeY, (currY + spread_point))):\n",
    "                for i in range(max(0, (currX - spread_point)), min(sizeX, (currX + spread_point))):\n",
    "                    calc = img[j, i] + (point_mult * math.exp((-point_distance(i,j,currX,currY)**2)/(2*(spread_point / 2.5)**2)))\n",
    "                    img[j, i] = min(1, calc)\n",
    "\n",
    "    plt.subplot(1, 2, 1)\n",
    "    imshow(img, cmap = plt.get_cmap('gray'), vmin = -1, vmax = 1,  interpolation='nearest')\n",
    "    plt.axis('off')\n",
    "\n",
    "    plt.subplot(1, 2, 2)\n",
    "    canvas = (canvas - 1) * -1\n",
    "    imshow(canvas, cmap = plt.get_cmap('gray'), vmin = 0, vmax = 1,  interpolation='nearest')\n",
    "    plt.axis('off')\n",
    "\n",
    "    return np.asarray(codes)"
   ]
  },
  {
   "cell_type": "code",
   "execution_count": 106,
   "metadata": {
    "collapsed": false
   },
   "outputs": [
    {
     "data": {
      "image/png": "[encoded data removed]",
      "text/plain": [
       "<matplotlib.figure.Figure at 0x10cba0f10>"
      ]
     },
     "metadata": {},
     "output_type": "display_data"
    }
   ],
   "source": [
    "numGCODESteps = 25\n",
    "y_train = traceImage(img)"
   ]
  },
  {
   "cell_type": "code",
   "execution_count": null,
   "metadata": {
    "collapsed": true
   },
   "outputs": [],
   "source": []
  },
  {
   "cell_type": "code",
   "execution_count": null,
   "metadata": {
    "collapsed": true
   },
   "outputs": [],
   "source": []
  },
  {
   "cell_type": "code",
   "execution_count": null,
   "metadata": {
    "collapsed": true
   },
   "outputs": [],
   "source": []
  },
  {
   "cell_type": "code",
   "execution_count": null,
   "metadata": {
    "collapsed": true
   },
   "outputs": [],
   "source": []
  },
  {
   "cell_type": "code",
   "execution_count": null,
   "metadata": {
    "collapsed": true
   },
   "outputs": [],
   "source": []
  },
  {
   "cell_type": "code",
   "execution_count": null,
   "metadata": {
    "collapsed": true
   },
   "outputs": [],
   "source": []
  }
 ],
 "metadata": {
  "kernelspec": {
   "display_name": "Python 2",
   "language": "python",
   "name": "python2"
  },
  "language_info": {
   "codemirror_mode": {
    "name": "ipython",
    "version": 2
   },
   "file_extension": ".py",
   "mimetype": "text/x-python",
   "name": "python",
   "nbconvert_exporter": "python",
   "pygments_lexer": "ipython2",
   "version": "2.7.12"
  }
 },
 "nbformat": 4,
 "nbformat_minor": 0
}
